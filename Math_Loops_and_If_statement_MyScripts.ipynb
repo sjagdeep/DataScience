{
 "cells": [
  {
   "cell_type": "markdown",
   "metadata": {},
   "source": [
    "# Introduction to Python\n",
    "\n",
    "We will learn to  \n",
    "- do simple math\n",
    "- make loops\n",
    "- use if statements"
   ]
  },
  {
   "cell_type": "markdown",
   "metadata": {
    "collapsed": true
   },
   "source": [
    "## A smaller headline\n",
    "\n",
    "Markdown cells use Markdown format"
   ]
  },
  {
   "cell_type": "code",
   "execution_count": 2,
   "metadata": {},
   "outputs": [
    {
     "name": "stdout",
     "output_type": "stream",
     "text": [
      "20\n"
     ]
    }
   ],
   "source": [
    "# Let's do some math\n",
    "\n",
    "a = 3\n",
    "b = 4\n",
    "c = 2 * 4\n",
    "\n",
    "print(a * b + c)"
   ]
  },
  {
   "cell_type": "code",
   "execution_count": 58,
   "metadata": {
    "collapsed": true
   },
   "outputs": [],
   "source": [
    "# Let's make a list\n",
    "\n",
    "someList = [a,b,c]\n",
    "\n",
    "# How can we see the contents of our list?B"
   ]
  },
  {
   "cell_type": "code",
   "execution_count": 59,
   "metadata": {},
   "outputs": [
    {
     "name": "stdout",
     "output_type": "stream",
     "text": [
      "[2, 4, 8]\n"
     ]
    }
   ],
   "source": [
    "print(someList)"
   ]
  },
  {
   "cell_type": "code",
   "execution_count": 16,
   "metadata": {},
   "outputs": [
    {
     "data": {
      "text/plain": [
       "4"
      ]
     },
     "execution_count": 16,
     "metadata": {},
     "output_type": "execute_result"
    }
   ],
   "source": [
    "someList[1]"
   ]
  },
  {
   "cell_type": "code",
   "execution_count": 15,
   "metadata": {},
   "outputs": [
    {
     "data": {
      "text/plain": [
       "3"
      ]
     },
     "execution_count": 15,
     "metadata": {},
     "output_type": "execute_result"
    }
   ],
   "source": [
    "# How long is our list?\n",
    "\n",
    "len(someList)"
   ]
  },
  {
   "cell_type": "code",
   "execution_count": 21,
   "metadata": {},
   "outputs": [
    {
     "name": "stdout",
     "output_type": "stream",
     "text": [
      "2\n",
      "-----\n",
      "4\n",
      "-----\n",
      "8\n",
      "-----\n",
      "======\n"
     ]
    }
   ],
   "source": [
    "# Now let's use our list in a for loop\n",
    "\n",
    "for item in someList: \n",
    "    print(item)\n",
    "    print('-----')\n",
    "print('======')"
   ]
  },
  {
   "cell_type": "code",
   "execution_count": 29,
   "metadata": {},
   "outputs": [
    {
     "name": "stdout",
     "output_type": "stream",
     "text": [
      "2\n",
      "4\n",
      "8\n"
     ]
    },
    {
     "data": {
      "text/plain": [
       "[None, None, None]"
      ]
     },
     "execution_count": 29,
     "metadata": {},
     "output_type": "execute_result"
    }
   ],
   "source": [
    "#### When in doubt, use a list comprehension\n",
    "\n",
    "[print(item) for item in someList];"
   ]
  },
  {
   "cell_type": "code",
   "execution_count": 32,
   "metadata": {},
   "outputs": [
    {
     "name": "stdout",
     "output_type": "stream",
     "text": [
      "I  like Jupyter Notebooks\n",
      "I really  like Jupyter Notebooks\n",
      "I really really  like Jupyter Notebooks\n"
     ]
    }
   ],
   "source": [
    "# Create a new cell and in it, \n",
    "# convert this loop into a list comprehension\n",
    "\n",
    "for integer in range(0,3):\n",
    "    print('I ' + 'really ' * integer + ' like Jupyter Notebooks')"
   ]
  },
  {
   "cell_type": "code",
   "execution_count": 35,
   "metadata": {},
   "outputs": [
    {
     "name": "stdout",
     "output_type": "stream",
     "text": [
      "I  like Jupyter Notebooks\n",
      "I really  like Jupyter Notebooks\n",
      "I really really  like Jupyter Notebooks\n",
      "I really really really  like Jupyter Notebooks\n"
     ]
    }
   ],
   "source": [
    "[print(('I ' + 'really ' * integer + ' like Jupyter Notebooks')) for integer in range(0,3)];"
   ]
  },
  {
   "cell_type": "code",
   "execution_count": 53,
   "metadata": {},
   "outputs": [
    {
     "data": {
      "text/plain": [
       "'Jagdeep, and Shyam, and Gopal, and I like Python'"
      ]
     },
     "execution_count": 53,
     "metadata": {},
     "output_type": "execute_result"
    }
   ],
   "source": [
    "# Let's use a loop to modify a string\n",
    "\n",
    "nameL = ['Gopal', 'Shyam', 'Jagdeep']\n",
    "myString = \"I like Python\"\n",
    "for name in nameL: \n",
    "    myString = name + ', and ' + myString\n",
    "    \n",
    "myString"
   ]
  },
  {
   "cell_type": "code",
   "execution_count": 54,
   "metadata": {},
   "outputs": [
    {
     "data": {
      "text/plain": [
       "'Jagdeep,  Shyam,  Gopal,  I like Python'"
      ]
     },
     "execution_count": 54,
     "metadata": {},
     "output_type": "execute_result"
    }
   ],
   "source": [
    "# Some string manipulation using replace() function\n",
    "myString = myString.replace(\", and\",\", \")\n",
    "myString"
   ]
  },
  {
   "cell_type": "code",
   "execution_count": 55,
   "metadata": {},
   "outputs": [
    {
     "name": "stdout",
     "output_type": "stream",
     "text": [
      "Jagdeep, and  Shyam, and  Gopal, and  I like Python\n"
     ]
    }
   ],
   "source": [
    "# Now use replace to add the \"and\" where it should go\n",
    "myString = myString.replace(\",\", \", and\")\n",
    "myString"
   ]
  },
  {
   "cell_type": "code",
   "execution_count": 56,
   "metadata": {},
   "outputs": [
    {
     "name": "stdout",
     "output_type": "stream",
     "text": [
      "8\n"
     ]
    }
   ],
   "source": [
    "for number in someList:\n",
    "    if number > 4:\n",
    "        print(number)\n",
    "        \n",
    "# Make a new cell and see \n",
    "# if you can you turn this loop \n",
    "# into a list comprehension        "
   ]
  },
  {
   "cell_type": "code",
   "execution_count": 68,
   "metadata": {},
   "outputs": [
    {
     "name": "stdout",
     "output_type": "stream",
     "text": [
      "8\n"
     ]
    }
   ],
   "source": [
    "\n",
    "[print(number) for number in someList if number > 4];"
   ]
  },
  {
   "cell_type": "code",
   "execution_count": 63,
   "metadata": {},
   "outputs": [
    {
     "name": "stdout",
     "output_type": "stream",
     "text": [
      "2 is less than 3 \n",
      "4 is greater than or equal to 2 and less than 8\n",
      "8 is greater than or equal to 8\n"
     ]
    }
   ],
   "source": [
    "# Here's a similar if statement that also uses elif and else:\n",
    "\n",
    "for number in someList:\n",
    "    if number < 3:\n",
    "        print(number, 'is less than 3 ')\n",
    "    elif number >= 3 and number < 8:\n",
    "        print(number, 'is greater than or equal to 2 and less than 8')\n",
    "    else:\n",
    "        print(number, 'is greater than or equal to 8')"
   ]
  },
  {
   "cell_type": "code",
   "execution_count": 85,
   "metadata": {},
   "outputs": [
    {
     "data": {
      "text/plain": [
       "'Jagdeep, and Shyam, and Gopal, and I like Python'"
      ]
     },
     "execution_count": 85,
     "metadata": {},
     "output_type": "execute_result"
    }
   ],
   "source": [
    "# Improve the myString loop.\n",
    "# This time, use an if statement to only add 'and' once.\n",
    "\n",
    "nameL = ['Gopal', 'Shyam', 'Jagdeep']\n",
    "myString = \"I like Python\"\n",
    "for name in nameL: \n",
    "    myString = name + ', and ' + myString\n",
    "    \n",
    "myString\n"
   ]
  },
  {
   "cell_type": "code",
   "execution_count": null,
   "metadata": {
    "collapsed": true
   },
   "outputs": [],
   "source": [
    "nameL = ['Gopal', 'Shyam', 'Jagdeep']\n",
    "myString = \"I like Python\"\n",
    "for name in nameL:\n",
    "   if (name=='Gopal'):\n",
    "      myString = name + ', and ' + myString\n",
    "   else:\n",
    "      myString = name + ', ' +myString\n",
    "myString"
   ]
  },
  {
   "cell_type": "code",
   "execution_count": 1,
   "metadata": {},
   "outputs": [
    {
     "name": "stdout",
     "output_type": "stream",
     "text": [
      "What's your name?\n",
      "jAGDEEP\n"
     ]
    }
   ],
   "source": [
    "print(\"What's your name?\")\n",
    "name = input()"
   ]
  },
  {
   "cell_type": "code",
   "execution_count": 2,
   "metadata": {},
   "outputs": [
    {
     "name": "stdout",
     "output_type": "stream",
     "text": [
      "jAGDEEP , how do you think you did today?\n",
      "Good\n"
     ]
    }
   ],
   "source": [
    "print(name, \", how do you think you did today?\")\n",
    "grade = input()"
   ]
  },
  {
   "cell_type": "code",
   "execution_count": 3,
   "metadata": {},
   "outputs": [
    {
     "name": "stdout",
     "output_type": "stream",
     "text": [
      "JAGDEEP did good!\n"
     ]
    }
   ],
   "source": [
    "name = name[0].upper() + name[1:]\n",
    "grade = grade.lower() + '!'\n",
    "print( name +' did', grade)"
   ]
  },
  {
   "cell_type": "code",
   "execution_count": null,
   "metadata": {
    "collapsed": true
   },
   "outputs": [],
   "source": []
  }
 ],
 "metadata": {
  "kernelspec": {
   "display_name": "Python 3",
   "language": "python",
   "name": "python3"
  },
  "language_info": {
   "codemirror_mode": {
    "name": "ipython",
    "version": 3
   },
   "file_extension": ".py",
   "mimetype": "text/x-python",
   "name": "python",
   "nbconvert_exporter": "python",
   "pygments_lexer": "ipython3",
   "version": "3.6.1"
  }
 },
 "nbformat": 4,
 "nbformat_minor": 2
}
